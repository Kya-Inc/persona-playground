{
 "cells": [
  {
   "cell_type": "code",
   "execution_count": 19,
   "metadata": {},
   "outputs": [
    {
     "name": "stdout",
     "output_type": "stream",
     "text": [
      "Tweets saved to ../data/brian_armstrong/tweets/brian_armstrong.txt\n"
     ]
    }
   ],
   "source": [
    "import pandas as pd\n",
    "\n",
    "# Read the CSV file\n",
    "df = pd.read_csv('./tweets/2023-10-25_20-53-36_tweets_1-1062.csv')\n",
    "\n",
    "# Filter tweets containing 'brian' in the handle\n",
    "df = df[df.Handle.str.contains('brian')].copy()\n",
    "df = df[pd.notna(df['Content'])]  # Exclude NaN values in Content\n",
    "\n",
    "# Write the 'Content' of tweets to a text file, one tweet per line\n",
    "output_file = '../data/brian_armstrong/tweets/brian_armstrong.txt'\n",
    "with open(output_file, 'w', encoding='utf-8') as f:\n",
    "    for tweet in df['Content']:\n",
    "        # Remove internal line breaks within each tweet\n",
    "        tweet_single_line = tweet.replace('\\n', ' ').strip()\n",
    "        if tweet_single_line:\n",
    "            f.write(tweet_single_line + '\\n')\n",
    "\n",
    "print(f\"Tweets saved to {output_file}\")\n"
   ]
  },
  {
   "cell_type": "code",
   "execution_count": 13,
   "metadata": {},
   "outputs": [],
   "source": [
    "df[['Content']].to_csv('../data/brian_armstrong/tweets/brian_armstrong.csv')"
   ]
  },
  {
   "cell_type": "code",
   "execution_count": null,
   "metadata": {},
   "outputs": [],
   "source": []
  }
 ],
 "metadata": {
  "kernelspec": {
   "display_name": "kya-chat-api",
   "language": "python",
   "name": "python3"
  },
  "language_info": {
   "codemirror_mode": {
    "name": "ipython",
    "version": 3
   },
   "file_extension": ".py",
   "mimetype": "text/x-python",
   "name": "python",
   "nbconvert_exporter": "python",
   "pygments_lexer": "ipython3",
   "version": "3.11.5"
  }
 },
 "nbformat": 4,
 "nbformat_minor": 2
}
